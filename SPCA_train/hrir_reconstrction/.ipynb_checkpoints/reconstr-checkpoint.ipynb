{
 "cells": [
  {
   "cell_type": "code",
   "execution_count": 10,
   "metadata": {},
   "outputs": [],
   "source": [
    "import numpy as np\n",
    "from scipy.fftpack import hilbert\n",
    "\n",
    "def itd_add(hrir, fs, itd):\n",
    "    z = np.fft.fft(hrir,200)\n",
    "    mag = np.abs(z)\n",
    "    ang = np.unwrap(np.angle(z))\n",
    "    f = np.transpose(np.linspace(0,z.shape[0]-1,z.shape[0]-1)) @ fs / z.shape[0]\n",
    "    ang[0:100] = ang[0:100]-2 @ np.pi @ itd @ np.transpose(f[0:100])\n",
    "    z[0:100] = mag[0:100] * np.cos(ang[0:100]) + j * mag[0:100] * np.sin(ang[0:100])\n",
    "    re,im = np.real(z), np.imag(z)\n",
    "    re, im = np.concatenate([re,[0]],axis=1),np.concatenate([im,[0]],axis=1)\n",
    "    im[0] = 0\n",
    "    for i in range(101,200): # 实部偶对称，虚部奇对称\n",
    "        re[:,i]= np.re(100-((i+1)-102))\n",
    "        im[:,i]= -mp.im(100-((i+1)-102))\n",
    "    tf=re+j@im\n",
    "    hrir[:, :] = np.real(np.fft.ifft(tf,200))\n",
    "    return hrir\n",
    "\n",
    "def reconstr(hrtf_l, hrtf_r, itd, direc, pn):\n",
    "    # 信号重建\n",
    "    rebuiltphase_l = np.zeros((pn, 200))\n",
    "    magn_l = np.power(hrtf_l/20,10) # 左耳幅度\n",
    "    magn_l_log = np.log(magn_l); # 左耳对数幅度，以e为底\n",
    "    \n",
    "    for i in range(0,pn):\n",
    "        rebuiltphase_l[i, :] = -np.imag(hilbert(magn_l_log[i, :])) #重建相位\n",
    "    hr_l = magn_l*np.cos(rebuiltphase_l)+j*magn_l*np.sin(rebuiltphase_l) #重建后hrtf的对数表示\n",
    "    for i in rnage(0,pn):\n",
    "        hrir_l[i, :] = np.real(np.fft.ifft(hr_l[i, :])) #左耳时域\n",
    "    rebuiltphase_r = np.zeros((pn, 200))\n",
    "    magn_r = np.power(hrtf_r/20,10) # 左耳幅度\n",
    "    magn_r_log = np.log(magn_r) # 左耳对数幅度，以e为底\n",
    "    for i in range(0,pn):\n",
    "        rebuiltphase_r[i, :] = -np.imag(hilbert(magn_r_log[i, :])) #重建相位\n",
    "    hr_r = magn_r*np.cos(rebuiltphase_r)+j*magn_r*np.sin(rebuiltphase_r) # 重建后hrtf的对数表示\n",
    "    for i in range(0,pn):\n",
    "        hrir_r[i, :] = np.real(np.fft.ifft(hr_r[i, :])) # 右耳时域\n",
    "    fs = 44100\n",
    "    itd = itd/fs # 转化成时间单位（秒）\n",
    "    \n",
    "    if dir > 625:\n",
    "        for i in range(0,itd.shape[0]):\n",
    "            hrir_l[i, :] = itd_add(hrir_l[i, :], fs, itd[i]);\n",
    "    elif dir < 625:\n",
    "        for i in range(0,itd.shape[0]):\n",
    "            hrir_r[i, :] = itd_add(hrir_r[i, :], fs, itd[i])\n",
    "    elif dir == 625:\n",
    "        for i in range(0,itd.shape[0]):\n",
    "            if np.max(hrir_l[i, :]) > np.max(hrir_r[i, :]):\n",
    "                hrir_r[i, :] = itd_add(hrir_r[i, :], fs, itd[i])\n",
    "            else:\n",
    "                hrir_l[i, :] = itd_add(hrir_l[i, :], fs, itd[i])\n",
    "    else:\n",
    "        raise IndexError('Wrong direction input')\n",
    "    return hrir_l, hrir_r"
   ]
  },
  {
   "cell_type": "code",
   "execution_count": 16,
   "metadata": {},
   "outputs": [],
   "source": [
    "if dir > 625:\n",
    "    for i = 1 : length(itd)\n",
    "        hrir_l(i, :) = itd_add(hrir_l(i, :), fs, itd(i));\n",
    "else if dir < 625:\n",
    "    for i = 1 : length(itd)\n",
    "        hrir_r(i, :) = itd_add(hrir_r(i, :), fs, itd(i));\n",
    "    end\n",
    "elseif dir == 625\n",
    "    for i = 1 : length(itd)\n",
    "        if max(hrir_l(i, :)) > max(hrir_r(i, :))\n",
    "            hrir_r(i, :) = itd_add(hrir_r(i, :), fs, itd(i));\n",
    "        else\n",
    "            hrir_l(i, :) = itd_add(hrir_l(i, :), fs, itd(i));\n",
    "        end\n",
    "    end\n",
    "else\n",
    "    error('err')\n",
    "end"
   ]
  },
  {
   "cell_type": "code",
   "execution_count": 6,
   "metadata": {},
   "outputs": [
    {
     "data": {
      "text/plain": [
       "(-1+0j)"
      ]
     },
     "execution_count": 6,
     "metadata": {},
     "output_type": "execute_result"
    }
   ],
   "source": [
    "np.power(1j,2)"
   ]
  },
  {
   "cell_type": "code",
   "execution_count": 15,
   "metadata": {},
   "outputs": [
    {
     "data": {
      "text/plain": [
       "array([0.+1.j, 2.+0.j])"
      ]
     },
     "execution_count": 15,
     "metadata": {},
     "output_type": "execute_result"
    }
   ],
   "source": [
    "a = np.array([1j,2])"
   ]
  },
  {
   "cell_type": "code",
   "execution_count": 13,
   "metadata": {},
   "outputs": [
    {
     "ename": "SyntaxError",
     "evalue": "invalid syntax (<ipython-input-13-c46c5a287959>, line 1)",
     "output_type": "error",
     "traceback": [
      "\u001b[0;36m  File \u001b[0;32m\"<ipython-input-13-c46c5a287959>\"\u001b[0;36m, line \u001b[0;32m1\u001b[0m\n\u001b[0;31m    if a = 0:\u001b[0m\n\u001b[0m         ^\u001b[0m\n\u001b[0;31mSyntaxError\u001b[0m\u001b[0;31m:\u001b[0m invalid syntax\n"
     ]
    }
   ],
   "source": []
  },
  {
   "cell_type": "code",
   "execution_count": null,
   "metadata": {},
   "outputs": [],
   "source": []
  }
 ],
 "metadata": {
  "kernelspec": {
   "display_name": "Python 3",
   "language": "python",
   "name": "python3"
  },
  "language_info": {
   "codemirror_mode": {
    "name": "ipython",
    "version": 3
   },
   "file_extension": ".py",
   "mimetype": "text/x-python",
   "name": "python",
   "nbconvert_exporter": "python",
   "pygments_lexer": "ipython3",
   "version": "3.6.10"
  }
 },
 "nbformat": 4,
 "nbformat_minor": 2
}
